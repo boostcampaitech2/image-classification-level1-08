{
 "cells": [
  {
   "cell_type": "code",
   "execution_count": 1,
   "source": [
    "import pandas as pd\n"
   ],
   "outputs": [],
   "metadata": {}
  },
  {
   "cell_type": "code",
   "execution_count": 2,
   "source": [
    "#0827 : 0826 gender mask + age만 epoch8\n",
    "#0827_2 : 0826 gender, mask + age만 epoch15\n",
    "#0828.csv : 0826 gender, mask + age 8epoch인데 augmentation(test/train split은 했음)\n",
    "#0829.csv : 0826 gender, mask + age 8epoch인데 augmentation(test/train split은 안함)\n",
    "#0831.csv : extra dataset age + 0826 gender, mask\n",
    "#0901.csv : extra age cutmix + 0826 gender, mask\n"
   ],
   "outputs": [],
   "metadata": {}
  },
  {
   "cell_type": "code",
   "execution_count": 3,
   "source": [
    "gender_csv = pd.read_csv('./infer_results/0901/gender_submission.csv')\n",
    "age_csv = pd.read_csv('./infer_results/0901/age_cutmix_submission.csv')\n",
    "mask_csv = pd.read_csv('./infer_results/0901/mask_submission.csv')\n",
    "\n",
    "merge_inner = pd.merge(gender_csv, age_csv)\n",
    "merged = pd.merge(merge_inner,mask_csv)\n",
    "\n",
    "# gender_csv.sort_values(by=['image_name'], axis=0, inplace=True)\n",
    "# age_csv.sort_values(by=['image_name'], axis=0, inplace=True)\n",
    "# mask_csv.sort_values(by=['image_name'], axis=0, inplace=True)\n",
    "\n",
    "# os.listdir('./infer_results/mask.csv')\n",
    "df = pd.DataFrame(columns = ['ImageID','ans'])"
   ],
   "outputs": [],
   "metadata": {}
  },
  {
   "cell_type": "code",
   "execution_count": 4,
   "source": [
    "#mask,gender,age\n",
    "\n",
    "a = {\"000\":0,\"001\":1,\"002\":2,\"010\":3,\"011\":4,\"012\":5,\"100\":6,\"101\":7,\"102\":8,\"110\":9,\"111\":10,\"112\":11,\"200\":12,\"201\":13,\"202\":14,\"210\":15,\"211\":16,\"212\":17}\n",
    "\n",
    "for row in merged.itertuples():\n",
    "    row = list(row)\n",
    "    gender = row[-3]\n",
    "    age = row[-2]\n",
    "    mask = row[-1]\n",
    "    name = row[1]\n",
    "    code = str(mask)+str(gender)+str(age)\n",
    "    li = [name,a[code]]\n",
    "#     print(li)\n",
    "    df = df.append(pd.Series(li, index=df.columns), ignore_index=True)\n",
    "\n",
    "    \n",
    "df.to_csv('0901.csv',index=None)\n",
    "print(\"done !\")   "
   ],
   "outputs": [
    {
     "output_type": "stream",
     "name": "stdout",
     "text": [
      "done !\n"
     ]
    }
   ],
   "metadata": {}
  },
  {
   "cell_type": "code",
   "execution_count": null,
   "source": [],
   "outputs": [],
   "metadata": {}
  }
 ],
 "metadata": {
  "kernelspec": {
   "name": "python3",
   "display_name": "Python 3.9.6 64-bit ('eff': conda)"
  },
  "language_info": {
   "name": "python",
   "version": "3.7.4",
   "mimetype": "text/x-python",
   "codemirror_mode": {
    "name": "ipython",
    "version": 3
   },
   "pygments_lexer": "ipython3",
   "nbconvert_exporter": "python",
   "file_extension": ".py"
  },
  "interpreter": {
   "hash": "d88d1844a0fbbb13bf1f929fffff709e062e8c90e068b01d73bef27e583553a9"
  }
 },
 "nbformat": 4,
 "nbformat_minor": 4
}
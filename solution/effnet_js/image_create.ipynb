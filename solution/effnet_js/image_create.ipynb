{
 "cells": [
  {
   "cell_type": "code",
   "execution_count": 20,
   "id": "4658b42b-2d27-4fbf-a300-6eaa84b0f254",
   "metadata": {},
   "outputs": [],
   "source": [
    "import os\n",
    "import csv\n",
    "import pandas as pd\n"
   ]
  },
  {
   "cell_type": "code",
   "execution_count": 23,
   "id": "60ba907a-e75c-4109-aaf7-6b38a9933431",
   "metadata": {},
   "outputs": [
    {
     "name": "stdout",
     "output_type": "stream",
     "text": [
      "2700\n"
     ]
    }
   ],
   "source": [
    "f = os.listdir('data/images')\n",
    "file_name=[]\n",
    "for i in f:\n",
    "    if i[0]!='.':\n",
    "        file_name.append(i)\n",
    "print(len(file_name))"
   ]
  },
  {
   "cell_type": "code",
   "execution_count": null,
   "id": "979366d2-afec-4bd3-961f-585f41b95792",
   "metadata": {},
   "outputs": [],
   "source": [
    "for file in file_name:\n",
    "    print(file)\n",
    "    imagesname = os.listdir(os.path.join('data/images',file))\n",
    "    imgfiles=[]\n",
    "    for im in imagesname:\n",
    "        if im[0]!='.':\n",
    "            imgfiles.append(im)\n",
    "    print(imgfiles)\n",
    "    for i in imgfiles:\n",
    "        file_oldname = os.path.join('data/images',file,i)\n",
    "        newname = file+\"_\"+i\n",
    "        print(newname)\n",
    "        file_newname_newfile = os.path.join('data/images',file,newname)\n",
    "        print(file_oldname)\n",
    "        print(file_newname_newfile)\n",
    "        os.rename(file_oldname, file_newname_newfile)\n",
    "    \n",
    "    "
   ]
  },
  {
   "cell_type": "markdown",
   "id": "51121d82-b33c-4188-aa94-0a066e1acce8",
   "metadata": {},
   "source": [
    "1. images 폴더 통쨰로 복사해옴\n",
    "2. 내부 모든 이미지 이름 변경\n",
    "3. 내부 모든 이미지 파일 꺼내서 상위폴더로 이동\n",
    "4. 빈 폴더 삭제\n"
   ]
  },
  {
   "cell_type": "code",
   "execution_count": null,
   "id": "3ce0fbe6-66f9-49e5-84d9-31a9ef753656",
   "metadata": {},
   "outputs": [],
   "source": []
  }
 ],
 "metadata": {
  "kernelspec": {
   "display_name": "Python 3 (ipykernel)",
   "language": "python",
   "name": "python3"
  },
  "language_info": {
   "codemirror_mode": {
    "name": "ipython",
    "version": 3
   },
   "file_extension": ".py",
   "mimetype": "text/x-python",
   "name": "python",
   "nbconvert_exporter": "python",
   "pygments_lexer": "ipython3",
   "version": "3.8.5"
  }
 },
 "nbformat": 4,
 "nbformat_minor": 5
}

{
 "cells": [
  {
   "cell_type": "code",
   "execution_count": 6,
   "id": "eb34951d-655f-4b44-a9fb-736660963373",
   "metadata": {},
   "outputs": [],
   "source": [
    "import csv\n",
    "import pandas as pd\n",
    "import os"
   ]
  },
  {
   "cell_type": "markdown",
   "id": "4f231500-1c7c-451b-a6c9-2a1e0f0a5130",
   "metadata": {},
   "source": [
    "### Label\n",
    "\n",
    "[Gender]\n",
    "- Male : 0\n",
    "- Female : 1\n",
    "\n",
    "[Mask]\n",
    "- Wear : 0\n",
    "- incorrect : 1\n",
    "- not wear : 2\n",
    "\n",
    "[Age]\n",
    "- ~30 : 0\n",
    "- 30~60 :1\n",
    "- 60~ : 2\n",
    "\n",
    "### new_df = pd.DataFrame(columns=['id', 'gender','age','mask','path'])\n",
    "\n",
    "- id : 0~18900 임의부여\n",
    "- path : 이미지 절대경로\n"
   ]
  },
  {
   "cell_type": "code",
   "execution_count": 7,
   "id": "c0ca47e4-6b4f-414c-8a4e-fd88ed43852f",
   "metadata": {},
   "outputs": [
    {
     "name": "stdout",
     "output_type": "stream",
     "text": [
      "save완료\n"
     ]
    }
   ],
   "source": [
    "#train 18900개\n",
    "\n",
    "image_base_dir = 'input/data/train/images'\n",
    "\n",
    "df = pd.read_csv('input/data/train/train.csv')\n",
    "new_df = pd.DataFrame(columns=['id', 'gender','age','mask','path'])\n",
    "\n",
    "i=0\n",
    "\n",
    "new_row = []\n",
    "img_name = ['incorrect_mask.jpg','mask5.jpg','mask3.jpg','normal.jpg','mask4.jpg','mask1.jpg','mask2.jpg','incorrect_mask.png','mask5.png','mask3.png','normal.png','mask4.png','mask1.png','mask2.png','incorrect_mask.jpeg','mask5.jpeg','mask3.jpeg','normal.jpeg','mask4.jpeg','mask1.jpeg','mask2.jpeg']\n",
    "names = []\n",
    "f = os.listdir(image_base_dir)\n",
    "for row in df.itertuples():\n",
    "    \n",
    "    row = list(row)\n",
    "    PATH = row[-1]\n",
    "    names.append(PATH)\n",
    "    file_list = os.listdir(os.path.join(image_base_dir,PATH))\n",
    "    \n",
    "    if '.ipynb_checkpoints' in file_list:\n",
    "        file_list.remove('.ipynb_checkpoints') #ipynb 오류해결용\n",
    "        \n",
    "\n",
    "    for file in file_list:   \n",
    "        if file in img_name:\n",
    "\n",
    "            # id\n",
    "            id = str(i).zfill(6)\n",
    "            # gender\n",
    "            if row[2] == 'female':\n",
    "                gender = 1\n",
    "            else:\n",
    "                gender = 0\n",
    "                \n",
    "            # mask    \n",
    "            if file == 'normal.png' or file == 'normal.jpg' or file == 'normal.jpeg':\n",
    "                mask = 2\n",
    "            elif file == 'incorrect_mask.png' or file == 'incorrect_mask.jpg' or file == 'incorrect_mask.jpeg':\n",
    "                mask = 1\n",
    "            else:\n",
    "                mask = 0\n",
    "            # age   \n",
    "            if row[4] < 30:\n",
    "                age = 0\n",
    "            elif row[4] < 60 and row[4] >=30:\n",
    "                age = 1\n",
    "            else:\n",
    "                age = 2\n",
    "            # path\n",
    "            con_PATH = os.path.join(image_base_dir,PATH,file) # 일단 절대경로로 설정\n",
    "            new_row = [id, gender,age,mask,con_PATH]\n",
    "            \n",
    "            #==========================================================#\n",
    "            new_df = new_df.append(pd.Series(new_row, index=new_df.columns), ignore_index=True)\n",
    "\n",
    "            i+=1\n",
    "\n",
    "new_df.to_csv('labeled_train.csv',index=None) #csv파일로 생성, 저장\n",
    "print(\"save완료\")\n"
   ]
  }
 ],
 "metadata": {
  "kernelspec": {
   "display_name": "Python 3 (ipykernel)",
   "language": "python",
   "name": "python3"
  },
  "language_info": {
   "codemirror_mode": {
    "name": "ipython",
    "version": 3
   },
   "file_extension": ".py",
   "mimetype": "text/x-python",
   "name": "python",
   "nbconvert_exporter": "python",
   "pygments_lexer": "ipython3",
   "version": "3.8.5"
  }
 },
 "nbformat": 4,
 "nbformat_minor": 5
}
